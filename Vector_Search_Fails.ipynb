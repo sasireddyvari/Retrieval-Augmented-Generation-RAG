{
  "nbformat": 4,
  "nbformat_minor": 0,
  "metadata": {
    "colab": {
      "provenance": [],
      "gpuType": "T4"
    },
    "kernelspec": {
      "name": "python3",
      "display_name": "Python 3"
    },
    "language_info": {
      "name": "python"
    },
    "accelerator": "GPU"
  },
  "cells": [
    {
      "cell_type": "code",
      "execution_count": null,
      "metadata": {
        "id": "x6sJX5qJAN8q"
      },
      "outputs": [],
      "source": [
        "from helper_utils import load_chroma, word_wrap\n",
        "from chromadb.utils.embedding_functions import SentenceTransformerEmbeddingFunction\n",
        "\n",
        "embedding_function = SentenceTransformerEmbeddingFunction()\n",
        "\n",
        "chroma_collection = load_chroma(filename='/content/RAG_Paper.pdf', collection_name='RAG_Paper', embedding_function=embedding_function)\n",
        "chroma_collection.count()"
      ]
    },
    {
      "cell_type": "code",
      "source": [
        "import umap\n",
        "import numpy as np\n",
        "from tqdm import tqdm\n",
        "\n",
        "embeddings = chroma_collection.get(include=['embeddings'])['embeddings']\n",
        "umap_transform = umap.UMAP(random_state=0, transform_seed=0).fit(embeddings)"
      ],
      "metadata": {
        "id": "FgX542zNApnC"
      },
      "execution_count": null,
      "outputs": []
    },
    {
      "cell_type": "code",
      "source": [
        "def project_embeddings(embeddings, umap_transform):\n",
        "    umap_embeddings = np.empty((len(embeddings),2))\n",
        "    for i, embedding in enumerate(tqdm(embeddings)):\n",
        "        umap_embeddings[i] = umap_transform.transform([embedding])\n",
        "    return umap_embeddings"
      ],
      "metadata": {
        "id": "luUX87IPB_ND"
      },
      "execution_count": null,
      "outputs": []
    },
    {
      "cell_type": "code",
      "source": [
        "projected_dataset_embeddings = project_embeddings(embeddings, umap_transform)"
      ],
      "metadata": {
        "id": "sIKvzS7TAfAG"
      },
      "execution_count": null,
      "outputs": []
    },
    {
      "cell_type": "code",
      "source": [
        "import matplotlib.pyplot as plt\n",
        "\n",
        "plt.figure()\n",
        "plt.scatter(projected_dataset_embeddings[:, 0], projected_dataset_embeddings[:, 1], s=10)\n",
        "plt.gca().set_aspect('equal', 'datalim')\n",
        "plt.title('Projected Embeddings')\n",
        "plt.axis('off')"
      ],
      "metadata": {
        "id": "pg9USFvWCERb"
      },
      "execution_count": null,
      "outputs": []
    },
    {
      "cell_type": "markdown",
      "source": [
        "## Relevancy and Distraction\n"
      ],
      "metadata": {
        "id": "s_gCi_MOCYOG"
      }
    },
    {
      "cell_type": "code",
      "source": [
        "query = \"What is the total revenue?\""
      ],
      "metadata": {
        "id": "scG_Ux1jCXuo"
      },
      "execution_count": null,
      "outputs": []
    },
    {
      "cell_type": "code",
      "source": [
        "results = chroma_collection.query(query_texts=query, n_results=5, include=['documents', 'embeddings'])\n",
        "\n",
        "retrieved_documents = results['documents'][0]\n",
        "\n",
        "for document in results['documents'][0]:\n",
        "    print(word_wrap(document))\n",
        "    print('')"
      ],
      "metadata": {
        "id": "wZJMpuc9CGrs"
      },
      "execution_count": null,
      "outputs": []
    },
    {
      "cell_type": "code",
      "source": [
        "query_embedding = embedding_function([query])[0]\n",
        "retrieved_embeddings = results['embeddings'][0]\n",
        "\n",
        "projected_query_embedding = project_embeddings([query_embedding], umap_transform)\n",
        "projected_retrieved_embeddings = project_embeddings(retrieved_embeddings, umap_transform)"
      ],
      "metadata": {
        "id": "Nq11OnX0CkCk"
      },
      "execution_count": null,
      "outputs": []
    },
    {
      "cell_type": "code",
      "source": [
        "# Plot the projected query and retrieved documents in the embedding space\n",
        "plt.figure()\n",
        "plt.scatter(projected_dataset_embeddings[:, 0], projected_dataset_embeddings[:, 1], s=10, color='gray')\n",
        "plt.scatter(projected_query_embedding[:, 0], projected_query_embedding[:, 1], s=150, marker='X', color='r')\n",
        "plt.scatter(projected_retrieved_embeddings[:, 0], projected_retrieved_embeddings[:, 1], s=100, facecolors='none', edgecolors='g')\n",
        "\n",
        "plt.gca().set_aspect('equal', 'datalim')\n",
        "plt.title(f'{query}')\n",
        "plt.axis('off')"
      ],
      "metadata": {
        "id": "3_5bbGgSCoV4"
      },
      "execution_count": null,
      "outputs": []
    },
    {
      "cell_type": "code",
      "source": [
        "\n",
        "query = \"What is the strategy around artificial intelligence (AI) ?\"\n",
        "results = chroma_collection.query(query_texts=query, n_results=5, include=['documents', 'embeddings'])\n",
        "\n",
        "retrieved_documents = results['documents'][0]\n",
        "\n",
        "for document in results['documents'][0]:\n",
        "    print(word_wrap(document))\n",
        "    print('')"
      ],
      "metadata": {
        "id": "iXt09x2_Cq1u"
      },
      "execution_count": null,
      "outputs": []
    },
    {
      "cell_type": "code",
      "source": [
        "query_embedding = embedding_function([query])[0]\n",
        "retrieved_embeddings = results['embeddings'][0]\n",
        "\n",
        "projected_query_embedding = project_embeddings([query_embedding], umap_transform)\n",
        "projected_retrieved_embeddings = project_embeddings(retrieved_embeddings, umap_transform)\n",
        "\n",
        "\n",
        "# Plot the projected query and retrieved documents in the embedding space\n",
        "plt.figure()\n",
        "plt.scatter(projected_dataset_embeddings[:, 0], projected_dataset_embeddings[:, 1], s=10, color='gray')\n",
        "plt.scatter(projected_query_embedding[:, 0], projected_query_embedding[:, 1], s=150, marker='X', color='r')\n",
        "plt.scatter(projected_retrieved_embeddings[:, 0], projected_retrieved_embeddings[:, 1], s=100, facecolors='none', edgecolors='g')\n",
        "\n",
        "plt.gca().set_aspect('equal', 'datalim')\n",
        "plt.title(f'{query}')\n",
        "plt.axis('off')"
      ],
      "metadata": {
        "id": "B8YHUPM5Cta0"
      },
      "execution_count": null,
      "outputs": []
    },
    {
      "cell_type": "code",
      "source": [
        "query = \"What has been the investment in research and development?\"\n",
        "results = chroma_collection.query(query_texts=query, n_results=5, include=['documents', 'embeddings'])\n",
        "\n",
        "retrieved_documents = results['documents'][0]\n",
        "\n",
        "for document in results['documents'][0]:\n",
        "    print(word_wrap(document))\n",
        "    print('')"
      ],
      "metadata": {
        "id": "GdnAwALnCw-1"
      },
      "execution_count": null,
      "outputs": []
    },
    {
      "cell_type": "code",
      "source": [
        "query_embedding = embedding_function([query])[0]\n",
        "retrieved_embeddings = results['embeddings'][0]\n",
        "\n",
        "projected_query_embedding = project_embeddings([query_embedding], umap_transform)\n",
        "projected_retrieved_embeddings = project_embeddings(retrieved_embeddings, umap_transform)\n",
        "\n",
        "\n",
        "# Plot the projected query and retrieved documents in the embedding space\n",
        "plt.figure()\n",
        "plt.scatter(projected_dataset_embeddings[:, 0], projected_dataset_embeddings[:, 1], s=10, color='gray')\n",
        "plt.scatter(projected_query_embedding[:, 0], projected_query_embedding[:, 1], s=150, marker='X', color='r')\n",
        "plt.scatter(projected_retrieved_embeddings[:, 0], projected_retrieved_embeddings[:, 1], s=100, facecolors='none', edgecolors='g')\n",
        "\n",
        "plt.gca().set_aspect('equal', 'datalim')\n",
        "plt.title(f'{query}')\n",
        "plt.axis('off')"
      ],
      "metadata": {
        "id": "7MH_FBTvCzWo"
      },
      "execution_count": null,
      "outputs": []
    },
    {
      "cell_type": "code",
      "source": [
        "query = \"What has Michael Jordan done for us lately?\"\n",
        "results = chroma_collection.query(query_texts=query, n_results=5, include=['documents', 'embeddings'])\n",
        "\n",
        "retrieved_documents = results['documents'][0]\n",
        "\n",
        "for document in results['documents'][0]:\n",
        "    print(word_wrap(document))\n",
        "    print('')\n",
        "\n",
        "query_embedding = embedding_function([query])[0]\n",
        "retrieved_embeddings = results['embeddings'][0]\n",
        "\n",
        "projected_query_embedding = project_embeddings([query_embedding], umap_transform)\n",
        "projected_retrieved_embeddings = project_embeddings(retrieved_embeddings, umap_transform)\n",
        "\n",
        "\n",
        "# Plot the projected query and retrieved documents in the embedding space\n",
        "plt.figure()\n",
        "plt.scatter(projected_dataset_embeddings[:, 0], projected_dataset_embeddings[:, 1], s=10, color='gray')\n",
        "plt.scatter(projected_query_embedding[:, 0], projected_query_embedding[:, 1], s=150, marker='X', color='r')\n",
        "plt.scatter(projected_retrieved_embeddings[:, 0], projected_retrieved_embeddings[:, 1], s=100, facecolors='none', edgecolors='g')\n",
        "\n",
        "plt.gca().set_aspect('equal', 'datalim')\n",
        "plt.title(f'{query}')\n",
        "plt.axis('off')"
      ],
      "metadata": {
        "id": "WWf1DB6IC15y"
      },
      "execution_count": null,
      "outputs": []
    }
  ]
}